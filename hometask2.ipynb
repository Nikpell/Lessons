{
  "cells": [
    {
      "cell_type": "markdown",
      "metadata": {
        "id": "view-in-github",
        "colab_type": "text"
      },
      "source": [
        "<a href=\"https://colab.research.google.com/github/Nikpell/Lessons/blob/main/hometask2.ipynb\" target=\"_parent\"><img src=\"https://colab.research.google.com/assets/colab-badge.svg\" alt=\"Open In Colab\"/></a>"
      ]
    },
    {
      "cell_type": "markdown",
      "id": "26b4aee2-90f9-4e1f-8d46-728a8237928e",
      "metadata": {
        "id": "26b4aee2-90f9-4e1f-8d46-728a8237928e"
      },
      "source": [
        "Условие: дана таблица с колонками (id, name, salary, managerId), студентам необходимо написать код на spark, который создаст эту таблицу (данные указаны ниже) и в результате выдаст таблицу в которой будут имена сотрудников, которые зарабатывают больше своих менеджеров."
      ]
    },
    {
      "cell_type": "code",
      "source": [
        "from google.colab import drive\n",
        "drive.mount('/content/drive')"
      ],
      "metadata": {
        "colab": {
          "base_uri": "https://localhost:8080/"
        },
        "id": "5QVKadhRktiG",
        "outputId": "b8bb0dc7-8a1b-416c-c0bf-76c13bc0ed1a"
      },
      "id": "5QVKadhRktiG",
      "execution_count": 19,
      "outputs": [
        {
          "output_type": "stream",
          "name": "stdout",
          "text": [
            "Mounted at /content/drive\n"
          ]
        }
      ]
    },
    {
      "cell_type": "markdown",
      "source": [
        "![pic.png](data:image/png;base64,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)"
      ],
      "metadata": {
        "id": "Kd0hFccQlfo9"
      },
      "id": "Kd0hFccQlfo9"
    },
    {
      "cell_type": "code",
      "execution_count": 20,
      "id": "90e9a223-6e65-4e5c-9782-2fff106b97ad",
      "metadata": {
        "colab": {
          "base_uri": "https://localhost:8080/"
        },
        "id": "90e9a223-6e65-4e5c-9782-2fff106b97ad",
        "outputId": "626b3257-f31c-439b-e125-c24e90119cb4"
      },
      "outputs": [
        {
          "output_type": "stream",
          "name": "stdout",
          "text": [
            "Requirement already satisfied: pyspark in /usr/local/lib/python3.10/dist-packages (3.5.1)\n",
            "Requirement already satisfied: py4j==0.10.9.7 in /usr/local/lib/python3.10/dist-packages (from pyspark) (0.10.9.7)\n"
          ]
        }
      ],
      "source": [
        "! pip install pyspark"
      ]
    },
    {
      "cell_type": "code",
      "execution_count": 21,
      "id": "a3e23313-8496-4c43-9280-8bd1bd59d1f7",
      "metadata": {
        "id": "a3e23313-8496-4c43-9280-8bd1bd59d1f7"
      },
      "outputs": [],
      "source": [
        "from pyspark.sql import SparkSession"
      ]
    },
    {
      "cell_type": "code",
      "execution_count": 22,
      "id": "6e0910f8-fc4c-4cd7-a2f4-80002a143788",
      "metadata": {
        "id": "6e0910f8-fc4c-4cd7-a2f4-80002a143788"
      },
      "outputs": [],
      "source": [
        "spark = SparkSession.builder.appName(\"hometask2\").getOrCreate()"
      ]
    },
    {
      "cell_type": "code",
      "execution_count": 23,
      "id": "7e5400d2-83c0-4591-b1a7-286dc9f7827b",
      "metadata": {
        "colab": {
          "base_uri": "https://localhost:8080/"
        },
        "id": "7e5400d2-83c0-4591-b1a7-286dc9f7827b",
        "outputId": "21ff5460-3769-4864-e67e-6771ae262260"
      },
      "outputs": [
        {
          "output_type": "stream",
          "name": "stdout",
          "text": [
            "+---+-----+------+---------+---+-----+-------+----------+\n",
            "| Id| name|Salary|managerId|Id1|name1|Salary1|managerId1|\n",
            "+---+-----+------+---------+---+-----+-------+----------+\n",
            "|  1|  Joe|    70|        3|  3|  Sam|     60|      NULL|\n",
            "|  2|Henry|    80|        4|  4|  Max|     90|      NULL|\n",
            "+---+-----+------+---------+---+-----+-------+----------+\n",
            "\n"
          ]
        }
      ],
      "source": [
        "data = [(1, \"Joe\", 70, 3),\n",
        "        (2, \"Henry\", 80, 4),\n",
        "        (3, \"Sam\", 60, None),\n",
        "        (4, \"Max\", 90, None)]\n",
        "\n",
        "df1 = spark.createDataFrame(data, [\"Id\", \"name\", \"Salary\", \"managerId\"])\n",
        "df2 = spark.createDataFrame(data, [\"Id1\", \"name1\", \"Salary1\", \"managerId1\"])\n",
        "df = df1.join(df2, df1.managerId == df2.Id1)\n",
        "df.show()"
      ]
    },
    {
      "cell_type": "code",
      "source": [
        "df.createOrReplaceTempView(\"worker\")"
      ],
      "metadata": {
        "id": "liAqShNHGgm6"
      },
      "id": "liAqShNHGgm6",
      "execution_count": 24,
      "outputs": []
    },
    {
      "cell_type": "code",
      "source": [
        "result = spark.sql(\n",
        "    \"\"\"\n",
        "    SELECT name\n",
        "    FROM worker\n",
        "    WHERE Salary > Salary1\n",
        "    \"\"\"\n",
        ")\n",
        "\n",
        "# Выводим результат\n",
        "result.show()"
      ],
      "metadata": {
        "colab": {
          "base_uri": "https://localhost:8080/"
        },
        "id": "sJkqIqge8qfg",
        "outputId": "02a6c03c-7a24-47b3-a3c9-e0b91a65af3c"
      },
      "id": "sJkqIqge8qfg",
      "execution_count": 25,
      "outputs": [
        {
          "output_type": "stream",
          "name": "stdout",
          "text": [
            "+----+\n",
            "|name|\n",
            "+----+\n",
            "| Joe|\n",
            "+----+\n",
            "\n"
          ]
        }
      ]
    }
  ],
  "metadata": {
    "kernelspec": {
      "display_name": "Python 3 (ipykernel)",
      "language": "python",
      "name": "python3"
    },
    "language_info": {
      "codemirror_mode": {
        "name": "ipython",
        "version": 3
      },
      "file_extension": ".py",
      "mimetype": "text/x-python",
      "name": "python",
      "nbconvert_exporter": "python",
      "pygments_lexer": "ipython3",
      "version": "3.11.7"
    },
    "colab": {
      "provenance": [],
      "include_colab_link": true
    }
  },
  "nbformat": 4,
  "nbformat_minor": 5
}