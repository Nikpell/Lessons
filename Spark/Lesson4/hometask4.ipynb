{
 "cells": [
  {
   "cell_type": "markdown",
   "id": "393ecbe6-806f-483d-9938-8dddc82ce427",
   "metadata": {},
   "source": [
    "Условие: используйте источник rate, напишите код, который создаст дополнительный столбец, который будет выводить сумму только нечётных чисел."
   ]
  },
  {
   "cell_type": "code",
   "execution_count": 1,
   "id": "fb9fd422-bd0e-4648-8972-5ca8d5298eaa",
   "metadata": {},
   "outputs": [],
   "source": [
    "!pip install pyspark >> None"
   ]
  },
  {
   "cell_type": "code",
   "execution_count": 2,
   "id": "c4cc77f4-2784-458d-ba8e-50b7c3ff4990",
   "metadata": {},
   "outputs": [],
   "source": [
    "from pyspark.sql import SparkSession\n",
    "from pyspark.sql.functions import col, sum\n",
    "from pyspark.sql.functions import *\n",
    "from time import sleep"
   ]
  },
  {
   "cell_type": "code",
   "execution_count": 4,
   "id": "0c67732f-3b2e-4eaa-9825-a064a488bbad",
   "metadata": {},
   "outputs": [
    {
     "name": "stderr",
     "output_type": "stream",
     "text": [
      "24/06/11 18:04:31 WARN ResolveWriteToStream: Temporary checkpoint location created which is deleted normally when the query didn't fail: /tmp/temporary-c1c1a139-69b5-43e2-90cc-087163bd6f13. If it's required to delete it under any circumstances, please set spark.sql.streaming.forceDeleteTempCheckpointLocation to true. Important to know deleting temp checkpoint folder is best effort.\n",
      "24/06/11 18:04:31 WARN ResolveWriteToStream: spark.sql.adaptive.enabled is not supported in streaming DataFrames/Datasets and will be disabled.\n"
     ]
    },
    {
     "name": "stdout",
     "output_type": "stream",
     "text": [
      "-------------------------------------------\n",
      "Batch: 0\n",
      "-------------------------------------------\n",
      "+-----+\n",
      "|total|\n",
      "+-----+\n",
      "| NULL|\n",
      "+-----+\n",
      "\n",
      "-------------------------------------------\n",
      "Batch: 1\n",
      "-------------------------------------------\n",
      "+-----+\n",
      "|total|\n",
      "+-----+\n",
      "| NULL|\n",
      "+-----+\n",
      "\n",
      "-------------------------------------------\n",
      "Batch: 2\n",
      "-------------------------------------------\n",
      "+-----+\n",
      "|total|\n",
      "+-----+\n",
      "|    1|\n",
      "+-----+\n",
      "\n",
      "-------------------------------------------\n",
      "Batch: 3\n",
      "-------------------------------------------\n",
      "+-----+\n",
      "|total|\n",
      "+-----+\n",
      "|    1|\n",
      "+-----+\n",
      "\n",
      "-------------------------------------------\n",
      "Batch: 4\n",
      "-------------------------------------------\n",
      "+-----+\n",
      "|total|\n",
      "+-----+\n",
      "|    4|\n",
      "+-----+\n",
      "\n",
      "-------------------------------------------\n",
      "Batch: 5\n",
      "-------------------------------------------\n",
      "+-----+\n",
      "|total|\n",
      "+-----+\n",
      "|    4|\n",
      "+-----+\n",
      "\n",
      "-------------------------------------------\n",
      "Batch: 6\n",
      "-------------------------------------------\n",
      "+-----+\n",
      "|total|\n",
      "+-----+\n",
      "|    9|\n",
      "+-----+\n",
      "\n",
      "-------------------------------------------\n",
      "Batch: 7\n",
      "-------------------------------------------\n",
      "+-----+\n",
      "|total|\n",
      "+-----+\n",
      "|    9|\n",
      "+-----+\n",
      "\n",
      "-------------------------------------------\n",
      "Batch: 8\n",
      "-------------------------------------------\n",
      "+-----+\n",
      "|total|\n",
      "+-----+\n",
      "|   16|\n",
      "+-----+\n",
      "\n",
      "-------------------------------------------\n",
      "Batch: 9\n",
      "-------------------------------------------\n",
      "+-----+\n",
      "|total|\n",
      "+-----+\n",
      "|   16|\n",
      "+-----+\n",
      "\n"
     ]
    },
    {
     "data": {
      "text/plain": [
       "True"
      ]
     },
     "execution_count": 4,
     "metadata": {},
     "output_type": "execute_result"
    }
   ],
   "source": [
    "spark = SparkSession.builder.appName(\"SumValues\").getOrCreate()\n",
    "df = spark.readStream.format(\"rate\").load()\n",
    "df_odd = df.filter(\"value % 2 != 0\")\n",
    "df_sum = df_odd.selectExpr(\"sum(value) AS total\")\n",
    "query = df_sum.writeStream.outputMode(\"update\").format(\"console\").start()\n",
    "sleep(10)\n",
    "query.stop()\n",
    "query.awaitTermination(5)"
   ]
  },
  {
   "cell_type": "code",
   "execution_count": null,
   "id": "32d8d35c-b94a-4286-8711-062dda31d0a0",
   "metadata": {},
   "outputs": [],
   "source": []
  }
 ],
 "metadata": {
  "kernelspec": {
   "display_name": "Python 3 (ipykernel)",
   "language": "python",
   "name": "python3"
  },
  "language_info": {
   "codemirror_mode": {
    "name": "ipython",
    "version": 3
   },
   "file_extension": ".py",
   "mimetype": "text/x-python",
   "name": "python",
   "nbconvert_exporter": "python",
   "pygments_lexer": "ipython3",
   "version": "3.11.7"
  }
 },
 "nbformat": 4,
 "nbformat_minor": 5
}
