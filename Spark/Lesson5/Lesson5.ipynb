{
 "cells": [
  {
   "cell_type": "markdown",
   "id": "8f82eae9-9338-4319-8e69-3b7b49cc52ec",
   "metadata": {},
   "source": [
    "Условие: создайте csv файл с таким содержимым:\n",
    "\n",
    "title,author,genre,sales,year\n",
    "\n",
    "\"1984\", \"George Orwell\", \"Science Fiction\", 5000, 1949\n",
    "\n",
    "\"The Lord of the Rings\", \"J.R.R. Tolkien\", \"Fantasy\", 3000, 1954\n",
    "\n",
    "\"To Kill a Mockingbird\", \"Harper Lee\", \"Southern Gothic\", 4000, 1960\n",
    "\n",
    "\"The Catcher in the Rye\", \"J.D. Salinger\", \"Novel\", 2000, 1951\n",
    "\n",
    "\"The Great Gatsby\", \"F. Scott Fitzgerald\", \"Novel\", 4500, 1925\n",
    "\n",
    "Задание:\n",
    "\n",
    "— Используя Spark прочитайте данные из файла csv.\n",
    "— Фильтруйте данные, чтобы оставить только книги, продажи которых превышают 3000 экземпляров.\n",
    "— Сгруппируйте данные по жанру и вычислите общий объем продаж для каждого жанра.\n",
    "— Отсортируйте данные по общему объему продаж в порядке убывания.\n",
    "— Выведите результаты на экран."
   ]
  },
  {
   "cell_type": "code",
   "execution_count": 1,
   "id": "99ab4b4e-9342-4e67-b795-a8f6965b93ea",
   "metadata": {},
   "outputs": [],
   "source": [
    "!pip install pyspark >> None"
   ]
  },
  {
   "cell_type": "code",
   "execution_count": 2,
   "id": "3a26de8b-4f6e-43fd-b4cd-5834573ec31d",
   "metadata": {},
   "outputs": [],
   "source": [
    "from pyspark.sql import SparkSession"
   ]
  },
  {
   "cell_type": "code",
   "execution_count": 3,
   "id": "65a8797a-32f5-4925-a1ed-53e2f4e21a3a",
   "metadata": {},
   "outputs": [
    {
     "name": "stderr",
     "output_type": "stream",
     "text": [
      "24/06/12 18:30:12 WARN Utils: Your hostname, nic-1-0 resolves to a loopback address: 127.0.1.1; using 192.168.150.159 instead (on interface wlo1)\n",
      "24/06/12 18:30:12 WARN Utils: Set SPARK_LOCAL_IP if you need to bind to another address\n",
      "Setting default log level to \"WARN\".\n",
      "To adjust logging level use sc.setLogLevel(newLevel). For SparkR, use setLogLevel(newLevel).\n",
      "24/06/12 18:30:13 WARN NativeCodeLoader: Unable to load native-hadoop library for your platform... using builtin-java classes where applicable\n",
      "24/06/12 18:30:13 WARN Utils: Service 'SparkUI' could not bind on port 4040. Attempting port 4041.\n",
      "24/06/12 18:30:13 WARN Utils: Service 'SparkUI' could not bind on port 4041. Attempting port 4042.\n",
      "                                                                                \r"
     ]
    },
    {
     "name": "stdout",
     "output_type": "stream",
     "text": [
      "+--------------------+-------------------+---------------+-----+----+\n",
      "|               title|             author|          genre|sales|year|\n",
      "+--------------------+-------------------+---------------+-----+----+\n",
      "|                1984|      George Orwell|Science Fiction| 5000|1949|\n",
      "|The Lord of the R...|     J.R.R. Tolkien|        Fantasy| 3000|1954|\n",
      "|To Kill a Mocking...|         Harper Lee|Southern Gothic| 4000|1960|\n",
      "|The Catcher in th...|      J.D. Salinger|          Novel| 2000|1951|\n",
      "|    The Great Gatsby|F. Scott Fitzgerald|          Novel| 4500|1925|\n",
      "+--------------------+-------------------+---------------+-----+----+\n",
      "\n"
     ]
    }
   ],
   "source": [
    "spark = SparkSession.builder.appName(\"data_to_csv\").getOrCreate()\n",
    "data = [\n",
    "(\"1984\", \"George Orwell\", \"Science Fiction\", 5000, 1949),\n",
    "(\"The Lord of the Rings\", \"J.R.R. Tolkien\", \"Fantasy\", 3000, 1954),\n",
    "(\"To Kill a Mockingbird\", \"Harper Lee\", \"Southern Gothic\", 4000, 1960),\n",
    "(\"The Catcher in the Rye\", \"J.D. Salinger\", \"Novel\", 2000, 1951),\n",
    "(\"The Great Gatsby\", \"F. Scott Fitzgerald\", \"Novel\", 4500, 1925)]\n",
    "df = spark.createDataFrame(data, ['title', 'author', 'genre', 'sales', 'year'])\n",
    "df.show()"
   ]
  },
  {
   "cell_type": "code",
   "execution_count": 4,
   "id": "12a43547-7b33-4373-926f-f1ecdd2a431e",
   "metadata": {},
   "outputs": [],
   "source": [
    "df.repartition(1).write.csv(\"exampl.csv\", header=True)\n",
    "spark.stop()"
   ]
  },
  {
   "cell_type": "markdown",
   "id": "b4988ae4-f2e2-4d22-9f81-cbed5da2b812",
   "metadata": {},
   "source": [
    "— Используя Spark прочитайте данные из файла csv.\n"
   ]
  },
  {
   "cell_type": "code",
   "execution_count": 5,
   "id": "6c97045c-e580-4726-b401-f68b0fa514b5",
   "metadata": {},
   "outputs": [
    {
     "name": "stderr",
     "output_type": "stream",
     "text": [
      "24/06/12 18:30:30 WARN Utils: Service 'SparkUI' could not bind on port 4040. Attempting port 4041.\n",
      "24/06/12 18:30:30 WARN Utils: Service 'SparkUI' could not bind on port 4041. Attempting port 4042.\n"
     ]
    },
    {
     "name": "stdout",
     "output_type": "stream",
     "text": [
      "+--------------------+-------------------+---------------+-----+----+\n",
      "|               title|             author|          genre|sales|year|\n",
      "+--------------------+-------------------+---------------+-----+----+\n",
      "|                1984|      George Orwell|Science Fiction| 5000|1949|\n",
      "|The Lord of the R...|     J.R.R. Tolkien|        Fantasy| 3000|1954|\n",
      "|To Kill a Mocking...|         Harper Lee|Southern Gothic| 4000|1960|\n",
      "|The Catcher in th...|      J.D. Salinger|          Novel| 2000|1951|\n",
      "|    The Great Gatsby|F. Scott Fitzgerald|          Novel| 4500|1925|\n",
      "+--------------------+-------------------+---------------+-----+----+\n",
      "\n"
     ]
    }
   ],
   "source": [
    "spark = SparkSession.builder.appName(\"csv_to_data\").getOrCreate()\n",
    "df = spark.read.csv(\"exampl.csv\", header=True)\n",
    "df.show()"
   ]
  },
  {
   "cell_type": "markdown",
   "id": "a2ce8b95-019a-4fff-b5ba-a7f5fd37adf0",
   "metadata": {},
   "source": [
    "\n",
    "— Фильтруйте данные, чтобы оставить только книги, продажи которых превышают 3000 экземпляров."
   ]
  },
  {
   "cell_type": "code",
   "execution_count": 6,
   "id": "eeea1f9b-bbd1-42de-933c-e73b11cf1d32",
   "metadata": {},
   "outputs": [
    {
     "name": "stdout",
     "output_type": "stream",
     "text": [
      "+--------------------+-------------------+---------------+-----+----+\n",
      "|               title|             author|          genre|sales|year|\n",
      "+--------------------+-------------------+---------------+-----+----+\n",
      "|                1984|      George Orwell|Science Fiction| 5000|1949|\n",
      "|To Kill a Mocking...|         Harper Lee|Southern Gothic| 4000|1960|\n",
      "|    The Great Gatsby|F. Scott Fitzgerald|          Novel| 4500|1925|\n",
      "+--------------------+-------------------+---------------+-----+----+\n",
      "\n"
     ]
    }
   ],
   "source": [
    "sales = df.filter(df.sales > 3000)\n",
    "sales.show()"
   ]
  },
  {
   "cell_type": "markdown",
   "id": "320dcce5-0da0-4f44-8cb6-e143466af7fd",
   "metadata": {},
   "source": [
    "— Сгруппируйте данные по жанру и вычислите общий объем продаж для каждого жанра."
   ]
  },
  {
   "cell_type": "code",
   "execution_count": 8,
   "id": "cfa19f57-ffc0-45a4-97f9-c3a0d3fa5494",
   "metadata": {},
   "outputs": [
    {
     "name": "stdout",
     "output_type": "stream",
     "text": [
      "+---------------+------+\n",
      "|          genre| total|\n",
      "+---------------+------+\n",
      "|Southern Gothic|4000.0|\n",
      "|          Novel|6500.0|\n",
      "|        Fantasy|3000.0|\n",
      "|Science Fiction|5000.0|\n",
      "+---------------+------+\n",
      "\n"
     ]
    }
   ],
   "source": [
    "from pyspark.sql.functions import sum\n",
    "genre_sales = df.groupBy(\"genre\").agg(sum(\"sales\").alias(\"total\"))\n",
    "genre_sales.show()"
   ]
  },
  {
   "cell_type": "markdown",
   "id": "c0f89117-bfe8-4b38-9954-2795bc14dde0",
   "metadata": {},
   "source": [
    "— Отсортируйте данные по общему объему продаж в порядке убывания.\n",
    "— Выведите результаты на экран."
   ]
  },
  {
   "cell_type": "code",
   "execution_count": 9,
   "id": "46862ccf-063b-46a4-9396-1855bf29c59d",
   "metadata": {},
   "outputs": [
    {
     "name": "stdout",
     "output_type": "stream",
     "text": [
      "+---------------+------+\n",
      "|          genre| total|\n",
      "+---------------+------+\n",
      "|          Novel|6500.0|\n",
      "|Science Fiction|5000.0|\n",
      "|Southern Gothic|4000.0|\n",
      "|        Fantasy|3000.0|\n",
      "+---------------+------+\n",
      "\n"
     ]
    }
   ],
   "source": [
    "genre_sales.orderBy(genre_sales.total.desc()).show()"
   ]
  },
  {
   "cell_type": "code",
   "execution_count": 10,
   "id": "ccb778d5-e0ad-41ed-bfc4-793d5efbae54",
   "metadata": {},
   "outputs": [],
   "source": [
    "spark.stop()"
   ]
  }
 ],
 "metadata": {
  "kernelspec": {
   "display_name": "Python 3 (ipykernel)",
   "language": "python",
   "name": "python3"
  },
  "language_info": {
   "codemirror_mode": {
    "name": "ipython",
    "version": 3
   },
   "file_extension": ".py",
   "mimetype": "text/x-python",
   "name": "python",
   "nbconvert_exporter": "python",
   "pygments_lexer": "ipython3",
   "version": "3.11.7"
  }
 },
 "nbformat": 4,
 "nbformat_minor": 5
}
