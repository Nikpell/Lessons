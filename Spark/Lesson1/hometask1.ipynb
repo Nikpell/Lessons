{
 "cells": [
  {
   "cell_type": "markdown",
   "metadata": {},
   "source": [
    "Найти самую длинную последовательность упорядоченных чисел в RDD и вывести её."
   ]
  },
  {
   "cell_type": "code",
   "execution_count": 5,
   "metadata": {},
   "outputs": [
    {
     "name": "stdout",
     "output_type": "stream",
     "text": [
      "Requirement already satisfied: pyspark in /home/nic/anaconda3/lib/python3.11/site-packages (3.5.1)\n",
      "Requirement already satisfied: py4j==0.10.9.7 in /home/nic/anaconda3/lib/python3.11/site-packages (from pyspark) (0.10.9.7)\n",
      "Note: you may need to restart the kernel to use updated packages.\n"
     ]
    }
   ],
   "source": [
    "%pip install pyspark"
   ]
  },
  {
   "cell_type": "code",
   "execution_count": 6,
   "metadata": {},
   "outputs": [],
   "source": [
    "import pyspark\n",
    "from pyspark import SparkContext\n",
    "from pyspark.sql import SparkSession\n",
    "from random import randint"
   ]
  },
  {
   "cell_type": "code",
   "execution_count": 7,
   "metadata": {},
   "outputs": [],
   "source": [
    "def longest_sequence_increase(rdd):\n",
    "    lst = rdd.collect()\n",
    "    seq_longest = lst[0:1]\n",
    "    i = 0\n",
    "    n = 1\n",
    "    while n < len(lst):\n",
    "        if lst[n] > lst[n-1]:\n",
    "            n += 1\n",
    "        else:\n",
    "            if len(seq_longest) < len(lst[i:n]):\n",
    "                seq_longest = lst[i:n]\n",
    "                i = n\n",
    "                n += 1\n",
    "            else:\n",
    "                i = n\n",
    "                n += 1\n",
    "    return seq_longest if len(seq_longest) >= len(lst[i:n]) else lst[i:n]\n",
    "\n",
    "random_list = [randint(0, 100) for i in range(20)]\n",
    "\n",
    "\n",
    "\n",
    "\n",
    "        \n"
   ]
  },
  {
   "cell_type": "code",
   "execution_count": 8,
   "metadata": {},
   "outputs": [
    {
     "name": "stdout",
     "output_type": "stream",
     "text": [
      "Наибольшая возрастающая последовательность: [27, 52, 79, 89] из RDD [61, 79, 25, 71, 26, 16, 99, 19, 3, 45, 27, 52, 79, 89, 60, 60, 98, 28, 7, 4]\n"
     ]
    }
   ],
   "source": [
    "\n",
    "spark = SparkSession.builder.appName(\"longest_sequence\").getOrCreate()\n",
    "rdd = spark.sparkContext.parallelize(random_list)\n",
    "long_seq = longest_sequence_increase(rdd)\n",
    "print(f\"Наибольшая возрастающая последовательность: {long_seq} из RDD {rdd.collect()}\")\n",
    "# spark.stop()"
   ]
  },
  {
   "cell_type": "markdown",
   "metadata": {},
   "source": []
  }
 ],
 "metadata": {
  "kernelspec": {
   "display_name": "base",
   "language": "python",
   "name": "python3"
  },
  "language_info": {
   "codemirror_mode": {
    "name": "ipython",
    "version": 3
   },
   "file_extension": ".py",
   "mimetype": "text/x-python",
   "name": "python",
   "nbconvert_exporter": "python",
   "pygments_lexer": "ipython3",
   "version": "3.11.7"
  }
 },
 "nbformat": 4,
 "nbformat_minor": 2
}
